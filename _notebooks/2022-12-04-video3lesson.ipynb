{
 "cells": [
  {
   "cell_type": "markdown",
   "metadata": {},
   "source": [
    "# \"Unit 3 Sections 9 and 11\"\n",
    "> Video 3\n",
    "\n",
    "- toc: true\n",
    "- branch: master\n",
    "- badges: true\n",
    "- comments: true\n",
    "- author: Trent, Eli, Khalid, Samarth\n",
    "- categories: [fastpages, jupyter]"
   ]
  },
  {
   "cell_type": "markdown",
   "metadata": {},
   "source": [
    "# Essential Knowledge \n",
    "- Knowledge of existing algorithms can help in constructing new ones. Some existing algorithms include:\n",
    "Determining the maximum or minimum value of two or more numbers.\n",
    "Computing the sum or average of two or more numbers.\n",
    "Identifying if an integer is or is not evenly divisble by another integer.\n",
    "Determining a robat's path through a maze.\n",
    "- Using existing correct algorithms as building blocks for constructing another algorithm has benefits such as reducing development time, reduce testing, and simplifying the idectification of errors.\n",
    "\n",
    "# Vocab \n",
    "..\n"
   ]
  },
  {
   "cell_type": "markdown",
   "metadata": {},
   "source": [
    "How can we make this work??\n",
    "![]({{site.baseurl}}/images/incorrectexmaple.png)\n",
    "- Create a algorithm to move the robot to the grey square for the grid above\n",
    "- The robot is represented by a triangle\n",
    "- The robot can move into white and grey squares but cannot move into a black square\n",
    "![]({{site.baseurl}}/images/algorithmforvideo3lesson.png)\n",
    "\n",
    "What is wrong with the grid and why wouldnt this algorithm work? What black squares would need to be added or removed to make this work?\n",
    "\n",
    "\n",
    "\n",
    "\n",
    "\n",
    "\n"
   ]
  },
  {
   "cell_type": "markdown",
   "metadata": {},
   "source": [
    "# Hacks potentially?\n",
    "\n",
    "How can we change this algorithm to make this grid work?\n",
    "![]({{site.baseurl}}/images/incorrectexample.png)\n",
    "![]({{site.baseurl}}/images/algorithforvideo3lesson.png)\n",
    "\n",
    "ANSWER\n",
    "\n",
    "![]({{site.baseurl}}/images/2ndgridanswer.png)\n",
    "\n",
    "\n",
    "\n",
    "\n",
    "\n",
    "\n"
   ]
  },
  {
   "cell_type": "markdown",
   "metadata": {},
   "source": [
    "# Hacks??\n",
    "Create a similar grid to the examples above with squares and make a algorithm to complete them. (Without copying ours)."
   ]
  }
 ],
 "metadata": {
  "kernelspec": {
   "display_name": "Python 3.9.12 ('base')",
   "language": "python",
   "name": "python3"
  },
  "language_info": {
   "codemirror_mode": {
    "name": "ipython",
    "version": 3
   },
   "file_extension": ".py",
   "mimetype": "text/x-python",
   "name": "python",
   "nbconvert_exporter": "python",
   "pygments_lexer": "ipython3",
   "version": "3.9.12"
  },
  "orig_nbformat": 4,
  "vscode": {
   "interpreter": {
    "hash": "f9754268531114ef921a74141f53a8784542b287a81b4d941f45efc2c5c049ef"
   }
  }
 },
 "nbformat": 4,
 "nbformat_minor": 2
}
