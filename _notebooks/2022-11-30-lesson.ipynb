{
 "cells": [
  {
   "cell_type": "markdown",
   "metadata": {},
   "source": [
    "# \"Unit 3 Sections 9 and 11\"\n",
    "> \"All Videos\"\n",
    "\n",
    "- toc: true\n",
    "- branch: master\n",
    "- badges: true\n",
    "- comments: true\n",
    "- author: Trent, Eli, Khalid, Samarth\n",
    "- categories: [fastpages, jupyter]"
   ]
  },
  {
   "cell_type": "markdown",
   "metadata": {},
   "source": [
    "## 3.9 Video 1\n",
    "### Essential Knowledge\n",
    "- Algorithms can be written in different ways and still accomplish the same tasks\n",
    "- Algorithms that appear similar can yield different side effects or results\n",
    "- Some conditional statements can be written as equivalent Boolean expressions\n",
    "- Some Boolean expressions can be written as equivalent conditional statements\n",
    "- Different algorithms can be developed or used to solve the same problem\n",
    "\n",
    "### Dice Game\n",
    "Do these two algorithms give the same results?\n",
    "\n",
    "IF (diceRoll≥4)     \n",
    "{   \n",
    "    DISPLAY (\"Great Job!\")    \n",
    "}     \n",
    "{   \n",
    "ELSE    \n",
    "}   \n",
    "    IF (diceRoll=3)\n",
    "    \n",
    "    "
   ]
  }
 ],
 "metadata": {
  "kernelspec": {
   "display_name": "Python 3.9.12 ('base')",
   "language": "python",
   "name": "python3"
  },
  "language_info": {
   "name": "python",
   "version": "3.9.12"
  },
  "orig_nbformat": 4,
  "vscode": {
   "interpreter": {
    "hash": "40d3a090f54c6569ab1632332b64b2c03c39dcf918b08424e98f38b5ae0af88f"
   }
  }
 },
 "nbformat": 4,
 "nbformat_minor": 2
}
