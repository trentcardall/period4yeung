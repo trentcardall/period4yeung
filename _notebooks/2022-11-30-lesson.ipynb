{
 "cells": [
  {
   "cell_type": "markdown",
   "metadata": {},
   "source": [
    "# \"Unit 3 Sections 9 and 11\"\n",
    "> \"All Videos\"\n",
    "\n",
    "- toc: true\n",
    "- branch: master\n",
    "- badges: true\n",
    "- comments: true\n",
    "- author: Trent, Eli, Khalid, Samarth\n",
    "- categories: [fastpages, jupyter]"
   ]
  },
  {
   "cell_type": "markdown",
   "metadata": {},
   "source": [
    "## 3.9 Video 1\n",
    "### Essential Knowledge\n",
    "- Algorithms can be written in different ways and still accomplish the same tasks\n",
    "- Algorithms that appear similar can yield different side effects or results\n",
    "- Some conditional statements can be written as equivalent Boolean expressions\n",
    "- Some Boolean expressions can be written as equivalent conditional statements\n",
    "- Different algorithms can be developed or used to solve the same problem\n",
    "\n",
    "### Dice Game\n",
    "Do these two algorithms give the same results?    "
   ]
  },
  {
   "cell_type": "code",
   "execution_count": null,
   "metadata": {},
   "outputs": [],
   "source": [
    "print(\"What did you roll on the dice?\")\n",
    "diceRoll = int(input())\n",
    "if diceRoll >= 4:\n",
    "    print(\"Nice roll!\")\n",
    "else:\n",
    "    if diceRoll >= 2:\n",
    "        print(\"Meh... You can do better\")\n",
    "    else:\n",
    "        print(\"That was not a great roll!\")"
   ]
  },
  {
   "cell_type": "code",
   "execution_count": null,
   "metadata": {},
   "outputs": [],
   "source": [
    "print(\"What did you roll on the dice?\")\n",
    "diceRoll = int(input())\n",
    "if diceRoll >= 4:\n",
    "    print(\"Nice roll!\")\n",
    "if diceRoll >= 2:\n",
    "    print(\"Meh... You can do better\")\n",
    "if diceRoll < 2:\n",
    "    print(\"That was not a great roll!\")"
   ]
  },
  {
   "cell_type": "markdown",
   "metadata": {},
   "source": [
    "- In what instances do the algorithms yield different results for the same input?\n",
    "- Why does this happen?\n",
    "\n",
    "### Can we adjust the second algorithm to yield the same results?"
   ]
  },
  {
   "cell_type": "code",
   "execution_count": null,
   "metadata": {},
   "outputs": [],
   "source": [
    "print(\"What did you roll on the dice?\")\n",
    "diceRoll = int(input())\n",
    "if diceRoll >= 4:\n",
    "    print(\"Nice roll!\")\n",
    "if diceRoll >= 2 and diceRoll < 4:\n",
    "    print(\"Meh... You can do better\")\n",
    "if diceRoll < 2:\n",
    "    print(\"That was not a great roll!\")"
   ]
  },
  {
   "cell_type": "markdown",
   "metadata": {},
   "source": [
    "**What can be taken away from this?**\n",
    "- Small changes/mistakes can have a big impact on the result\n",
    "- There is often more than one way to achieve the same result\n",
    "\n",
    "### Conditional vs Boolean\n",
    "- How could this conditional scenario be replaced with a boolean scenario?   \n",
    "\n",
    "IF (isHoliday)   \n",
    "{   \n",
    "    school⟵false   \n",
    "}   \n",
    "ELSE   \n",
    "{   \n",
    "    IF(isWeekday)   \n",
    "    {   \n",
    "        school⟵true   \n",
    "    }   \n",
    "    ELSE   \n",
    "    {   \n",
    "        school⟵false   \n",
    "    }   \n",
    "}   \n",
    "\n",
    "**What needs to be true and what needs to be false in order for you to go to school?**\n",
    "- First conditional: If isHoliday is true, you do not need to go to school\n",
    "- Second conditional: If isWeekday is true, you do need to go to school. However, if it is false, school also becomes false\n",
    "\n",
    "**Therefore, in pseudo code, this statement could be written as:**\n",
    "- school⟵((NOT (isHoliday)) AND (isWeekday))\n",
    "- Keep in mind that both of these statements yield the same results, and neither of them are incorrect\n",
    "\n",
    "gonna add another part"
   ]
  }
 ],
 "metadata": {
  "kernelspec": {
   "display_name": "Python 3.9.12 ('base')",
   "language": "python",
   "name": "python3"
  },
  "language_info": {
   "codemirror_mode": {
    "name": "ipython",
    "version": 3
   },
   "file_extension": ".py",
   "mimetype": "text/x-python",
   "name": "python",
   "nbconvert_exporter": "python",
   "pygments_lexer": "ipython3",
   "version": "3.9.12"
  },
  "orig_nbformat": 4,
  "vscode": {
   "interpreter": {
    "hash": "b21c0b9d110a5a3043a375d760ca16faf426bffca7e8cbf746b0d228ab037b0a"
   }
  }
 },
 "nbformat": 4,
 "nbformat_minor": 2
}
