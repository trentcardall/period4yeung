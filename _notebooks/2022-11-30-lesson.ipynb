{
 "cells": [
  {
   "cell_type": "markdown",
   "metadata": {},
   "source": [
    "# \"Unit 3 Sections 9 and 11\"\n",
    "> \"All Videos\"\n",
    "\n",
    "- toc: true\n",
    "- badges: true\n",
    "- comments: true\n",
    "- author: Trent, Eli, Khalid, Samarth\n",
    "- categories: [fastpages, jupyter]"
   ]
  },
  {
   "cell_type": "markdown",
   "metadata": {},
   "source": [
    "## 3.9 Video 1\n",
    "### Essential Knowledge\n",
    "- Algorithms can be written in different ways and still accomplish the same tasks\n",
    "- Algorithms that appear similar can yield different side effects or results\n",
    "- Some conditional statements can be written as equivalent Boolean expressions\n",
    "- Some Boolean expressions can be written as equivalent conditional statements\n",
    "- Different algorithms can be developed or used to solve the same problem\n",
    "\n",
    "### Dice Game\n",
    "Do these two algorithms give the same results?    "
   ]
  },
  {
   "cell_type": "code",
   "execution_count": null,
   "metadata": {},
   "outputs": [],
   "source": [
    "print(\"What did you roll on the dice?\")\n",
    "diceRoll = int(input())\n",
    "if diceRoll >= 4:\n",
    "    print(\"Nice roll!\")\n",
    "else:\n",
    "    if diceRoll >= 2:\n",
    "        print(\"Meh... You can do better\")\n",
    "    else:\n",
    "        print(\"That was not a great roll!\")"
   ]
  },
  {
   "cell_type": "code",
   "execution_count": null,
   "metadata": {},
   "outputs": [],
   "source": [
    "print(\"What did you roll on the dice?\")\n",
    "diceRoll = int(input())\n",
    "if diceRoll >= 4:\n",
    "    print(\"Nice roll!\")\n",
    "if diceRoll >= 2:\n",
    "    print(\"Meh... You can do better\")\n",
    "if diceRoll < 2:\n",
    "    print(\"That was not a great roll!\")"
   ]
  },
  {
   "cell_type": "markdown",
   "metadata": {},
   "source": [
    "- In what instances do the algorithms yield different results for the same input?\n",
    "- Why does this happen?\n",
    "\n",
    "### Can we adjust the second algorithm to yield the same results?"
   ]
  },
  {
   "cell_type": "code",
   "execution_count": null,
   "metadata": {},
   "outputs": [],
   "source": [
    "print(\"What did you roll on the dice?\")\n",
    "diceRoll = int(input())\n",
    "if diceRoll >= 4:\n",
    "    print(\"Nice roll!\")\n",
    "if diceRoll >= 2 and diceRoll < 4:\n",
    "    print(\"Meh... You can do better\")\n",
    "if diceRoll < 2:\n",
    "    print(\"That was not a great roll!\")"
   ]
  },
  {
   "cell_type": "markdown",
   "metadata": {},
   "source": [
    "**What can be taken away from this?**\n",
    "- Small changes/mistakes can have a big impact on the result\n",
    "- There is often more than one way to achieve the same result\n",
    "\n",
    "### Conditional vs Boolean\n",
    "- How could this conditional scenario be replaced with a boolean scenario?   \n",
    "\n",
    "- IF (isHoliday)   \n",
    "- {   \n",
    "    - school⟵false   \n",
    "- }   \n",
    "- ELSE   \n",
    "- {   \n",
    "    - IF(isWeekday)   \n",
    "    - {   \n",
    "        - school⟵true   \n",
    "    - }   \n",
    "    - ELSE   \n",
    "    - {   \n",
    "        - school⟵false   \n",
    "    - }   \n",
    "- }   \n",
    "\n",
    "**What needs to be true and what needs to be false in order for you to go to school?**\n",
    "- First conditional: If isHoliday is true, you do not need to go to school\n",
    "- Second conditional: If isWeekday is true, you do need to go to school. However, if it is false, school also becomes false\n",
    "\n",
    "**Therefore, in pseudo code, this statement could be written as:**\n",
    "- school⟵((NOT (isHoliday)) AND (isWeekday))\n",
    "- Keep in mind that both of these statements yield the same results, and neither of them are incorrect\n",
    "\n",
    "### More Comparing Algorithms\n",
    "The algorithms below are to sum the odd numbers from 1 to 9 (1+3+5+7+9). Do they each work as intended?\n",
    "\n",
    "1. \n",
    "- sum⟵1\n",
    "- counter⟵3\n",
    "- REPEAT 4 TIMES\n",
    "    - sum⟵sum + counter\n",
    "    - counter⟵counter + 2\n",
    "- DISPLAY sum\n",
    "\n",
    "2. \n",
    "- sum⟵0\n",
    "- counter⟵9\n",
    "- REPEAT UNTIL counter < 1\n",
    "    - sum⟵sum + counter\n",
    "    - counter⟵counter - 2\n",
    "- DISPLAY sum\n",
    "\n",
    "**Why is it important to understand that algorithms can be written in different ways and still accomplish the same tasks?**"
   ]
  },
  {
   "cell_type": "markdown",
   "metadata": {},
   "source": [
    "## 3.9 Video 2\n",
    "### Essential Knowledge \n",
    "- Algorithms can be created from an idea, \n",
    "  by combining other algorithms, \n",
    "  or by modifying other algorithms.\n",
    "\n",
    "### Vocab\n",
    "- Iteration: Repeating steps, or instructions over and over again. \n",
    "( this could be also often called a loop ) \n",
    "- Selection: is a decision or question. At some point in an algorithm there may need to be a question because the algorithm has reached a step where one or more options are available."
   ]
  },
  {
   "cell_type": "markdown",
   "metadata": {},
   "source": [
    "# Create an Algorithm"
   ]
  },
  {
   "cell_type": "markdown",
   "metadata": {},
   "source": [
    "![photo]({{site.baseurl}}/images/example 1 triangle.png)"
   ]
  },
  {
   "cell_type": "markdown",
   "metadata": {},
   "source": [
    "- Create an algorithm to move the robot to the gray square for the grid of squares on the right.\n",
    "- The robot is represented by a triangle, which is initially facing towards the top of the grid.\n",
    "- The robot can move into a white or gray square but cannot move into a black region.\n",
    "    \n",
    "    <details closed>\n",
    "<summary>Click for Answer!</summary>\n",
    "![photo]({{site.baseurl}}/images/robot answer.png)\n",
    "    The code just repeats until the goal is reached\n",
    "</details>"
   ]
  },
  {
   "cell_type": "markdown",
   "metadata": {},
   "source": [
    "- You might notice that certain parts would be repeated if you listed all the steps.\n",
    "- To more easily represent the algorithm, without showing every step, we could use iteration.\n",
    "- By using iteration, we can better see the flow of the algorithm.\n",
    "\n",
    "- The algorithm below uses the procedure goalReached, which returns true if the robot is in gray square and returns false otherwise.\n",
    "![photo]({{site.baseurl}}/images/flowchart robot.png)\n",
    "- We can represent this algorithm using pseudocode    \n",
    "\n",
    "    \n",
    "- REPEAT UNTIL (goalReached)\n",
    "- {\n",
    "    - MOVE_FORWARD ()\n",
    "    - ROTATE_RIGHT ()\n",
    "    - MOVE_FORWARD ()\n",
    "    - ROTATE_LEFT ()\n",
    "- }"
   ]
  },
  {
   "cell_type": "markdown",
   "metadata": {},
   "source": [
    "Choose which algorithm that uses selection and/or iteration to determine the cost of one item in the store? Which is Correct?\n",
    "\n",
    "The display at the store says the following:\n",
    "\n",
    "All Green Tag Items - 25% off\n",
    "\n",
    "All Red Tag Items - 60% off\n",
    "\n",
    "Suppose that the tax on all items is 10%"
   ]
  },
  {
   "cell_type": "markdown",
   "metadata": {},
   "source": [
    "**Algorithm A:**\n",
    "\n",
    "- DISPLAY (\"What is the cost of the item?\")\n",
    "- cost←INPUT ()\n",
    "- IF (greenTag)\n",
    "- {\n",
    "    - cost ← 0.75 * Cost \n",
    "- }\n",
    "- IF (redTag)\n",
    "- {\n",
    "    - cost ← 0.40 * Cost \n",
    "- }\n",
    "- cost ← 1.10 * cost\n"
   ]
  },
  {
   "cell_type": "markdown",
   "metadata": {},
   "source": [
    "**Algorithm B:**\n",
    "\n",
    "- DISPLAY (What is the cost of the item)\n",
    "- cost←INPUT ()\n",
    "- IF (greenTag)\n",
    "- {\n",
    "    - cost ← 0.75 * Cost \n",
    "- }\n",
    "- IF (redTag)\n",
    "- {\n",
    "    - cost ← 1.10 * cost\n",
    "- }\n",
    "- cost ← 0.40 * Cost"
   ]
  },
  {
   "cell_type": "markdown",
   "metadata": {},
   "source": [
    "## Algorithms Hacks\n",
    "1. Create an algorithm that uses selection and/or iteration that will represent one player's complete turn.\n",
    "\n",
    "During a turn, each player gets 4 attempts/chances to get the greatest number possible.\n",
    "\n",
    "during each attempt, the player will use a random number generator to select a random number from 1 to 10.\n",
    "\n",
    "After they have had 4 chances, their score is the greatest number they received from the random number generator, and their turn is over."
   ]
  },
  {
   "cell_type": "markdown",
   "metadata": {},
   "source": []
  }
 ],
 "metadata": {
  "kernelspec": {
   "display_name": "Python 3.9.12 ('base')",
   "language": "python",
   "name": "python3"
  },
  "language_info": {
   "codemirror_mode": {
    "name": "ipython",
    "version": 3
   },
   "file_extension": ".py",
   "mimetype": "text/x-python",
   "name": "python",
   "nbconvert_exporter": "python",
   "pygments_lexer": "ipython3",
   "version": "3.9.12"
  },
  "orig_nbformat": 4,
  "vscode": {
   "interpreter": {
    "hash": "b21c0b9d110a5a3043a375d760ca16faf426bffca7e8cbf746b0d228ab037b0a"
   }
  }
 },
 "nbformat": 4,
 "nbformat_minor": 2
}
