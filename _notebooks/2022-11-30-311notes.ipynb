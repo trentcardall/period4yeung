{
 "cells": [
  {
   "cell_type": "markdown",
   "metadata": {},
   "source": [
    "---\n",
    "title: \"Unit 3 Sections 9 and 11\"\n",
    "toc: true\n",
    "branch: master\n",
    "badges: true\n",
    "comments: true\n",
    "author: Trent, Eli, Khalid, Samarth\n",
    "categories: [fastpages, jupyter]\n",
    "nb_path: _notebooks/2022-11-30-lesson.ipynb\n",
    "layout: notebook\n",
    "---\n"
   ]
  },
  {
   "cell_type": "markdown",
   "metadata": {},
   "source": [
    "# 3.11 Video Notes\n",
    "## Learning Objective\n",
    "- For binary search algorithims\n",
    "    - Determine the number of iterations required to find a value in a data set. \n",
    "    - Explain the requirements necessary to complete a binary search.\n",
    "- The binary search algorithm starts at the middle of a sorted data set of numbers and eliminates half of the data; this process repeats until the desired value is found or all elements have been eliminated.\n",
    "- Data must be in sorted order to use the binary search algorithm \n",
    "- A binary search is often more efficient than sequential/linear search when applied to sorted data. \n",
    "## Essential knowledge\n",
    "- \n",
    "- imagine you  had to search for a number in a huge set. How would you do it? Would you pick randomly or would you put them in order first?\n",
    "\n",
    "### Sequential Search \n",
    "- For the sake of this search lets line up the numbers\n",
    "- It doesn't have to be in order \n",
    "- In this method you go down the line to find the number you are looking for\n",
    "- For a Sequential Search you compare each number to the number you are searching for\n",
    "- If it is not the number you are looking for you move on. (inefficient method)\n",
    "- You can also use this method for strings as well. \n",
    "\n",
    "\n",
    "### Binary Search\n",
    "- While using Binary Search you have to put the group of numbers from ascending or descending order\n",
    "- What the computer does it takes the lowest index and the highest index, adds them and then divides that value by 2. \n",
    "- This gets the middle value and starts the search at the middle of the group. \n",
    "- Go to the respective index and pull the element, if this is not the desired number then go to the left and the right to and repeat the same process for the left and the right without including the index of the middle number. (efficient method)\n",
    "- To put the efficiency of the binary search method into context if you have a list of 600 numbers the maximum amount of attempts it will take to get the number is 10. (1 level of tree is one search, the algorithm goes to the side of which the number is on the tree)\n",
    "- This method also applies to strings as well because only the indexes are getting compared. As long as the user can put it in an order (perferably alphabetical order) to tell the algorithm which side of the middle index to go to next then it is possible to use \n",
    "\n",
    "\n",
    "## Practice Problems\n",
    "1. Which is a plauseable way to pattern your numbers for binary search. \n",
    "\n",
    "a. [1,4,5,2,3]\n",
    "b. [24,22,23,28,30]\n",
    "c. [5,6,7,8,2]\n",
    "d. [1,2,3,4,5]\n",
    "\n",
    "2. How many checks would it take to print out 20 using sequential search \n",
    "\n",
    "[1, 3, 4, 5, 7, 8, 10 ,20]\n",
    "\n",
    "3. How many checks would it take to print out 30 using binary search \n",
    "\n",
    "[1, 2, 3, 4, 6, 8, 9, 11, 30]\n",
    "\n",
    "4. Using Binary Search how many checks would it take to find the word kiwi. \n",
    "\n",
    "[Apple, Banana, Kiwi, Mango, Strawberry]\n",
    "\n",
    "## Hacks \n",
    "\n",
    "\n"
   ]
  }
 ],
 "metadata": {
  "kernelspec": {
   "display_name": "Python 3.9.13 64-bit (microsoft store)",
   "language": "python",
   "name": "python3"
  },
  "language_info": {
   "name": "python",
   "version": "3.9.13"
  },
  "orig_nbformat": 4,
  "vscode": {
   "interpreter": {
    "hash": "b9c3426249d7334374c23b70574cd863c9c4586e94e725b6faba2747af0061b7"
   }
  }
 },
 "nbformat": 4,
 "nbformat_minor": 2
}
