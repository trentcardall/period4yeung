{
 "cells": [
  {
   "cell_type": "markdown",
   "metadata": {},
   "source": [
    "---\n",
    "title: \"Unit 3 Sections 9 and 11\"\n",
    "toc: true\n",
    "branch: master\n",
    "badges: true\n",
    "comments: true\n",
    "author: Trent, Eli, Khalid, Samarth\n",
    "categories: [fastpages, jupyter]\n",
    "nb_path: _notebooks/2022-11-30-lesson.ipynb\n",
    "layout: notebook\n",
    "---\n"
   ]
  },
  {
   "cell_type": "markdown",
   "metadata": {},
   "source": [
    "# 3.11 Video Notes\n",
    "\n",
    "## Sequential Search\n",
    "\n",
    "\n",
    "\n",
    "## Binary Search"
   ]
  }
 ],
 "metadata": {
  "language_info": {
   "name": "python"
  },
  "orig_nbformat": 4
 },
 "nbformat": 4,
 "nbformat_minor": 2
}
