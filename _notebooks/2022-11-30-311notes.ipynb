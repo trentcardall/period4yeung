{
 "cells": [
  {
   "cell_type": "markdown",
   "metadata": {},
   "source": [
    "---\n",
    "title: \"Unit 3 Sections 9 and 11\"\n",
    "toc: true\n",
    "branch: master\n",
    "badges: true\n",
    "comments: true\n",
    "author: Trent, Eli, Khalid, Samarth\n",
    "categories: [fastpages, jupyter]\n",
    "nb_path: _notebooks/2022-11-30-lesson.ipynb\n",
    "layout: notebook\n",
    "---\n"
   ]
  },
  {
   "cell_type": "markdown",
   "metadata": {},
   "source": [
    "# 3.11 Video Notes\n",
    "\n",
    "## Sequential Search\n",
    "\n",
    "\n",
    "\n",
    "## Binary Search"
   ]
  }
 ],
 "metadata": {
  "kernelspec": {
   "display_name": "Python 3.9.13 64-bit (microsoft store)",
   "language": "python",
   "name": "python3"
  },
  "language_info": {
   "name": "python",
   "version": "3.9.13"
  },
  "orig_nbformat": 4,
  "vscode": {
   "interpreter": {
    "hash": "b9c3426249d7334374c23b70574cd863c9c4586e94e725b6faba2747af0061b7"
   }
  }
 },
 "nbformat": 4,
 "nbformat_minor": 2
}
