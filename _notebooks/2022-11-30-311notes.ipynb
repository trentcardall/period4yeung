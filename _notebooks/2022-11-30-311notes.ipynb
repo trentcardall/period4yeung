{
 "cells": [
  {
   "cell_type": "markdown",
   "metadata": {},
   "source": [
    "---\n",
    "title: \"Unit 3 Sections 9 and 11\"\n",
    "toc: true\n",
    "branch: master\n",
    "badges: true\n",
    "comments: true\n",
    "author: Trent, Eli, Khalid, Samarth\n",
    "categories: [fastpages, jupyter]\n",
    "nb_path: _notebooks/2022-11-30-lesson.ipynb\n",
    "layout: notebook\n",
    "---\n"
   ]
  },
  {
   "cell_type": "markdown",
   "metadata": {},
   "source": [
    "# 3.11 Video Notes\n",
    "## Learning Objective\n",
    "- For binary search algorithims\n",
    "    - Determine the number of iterations required to find a value in a data set. \n",
    "    - Explain the requirements necessary to complete a binary search.\n",
    "- The binary search algorithm starts at the middle of a sorted data set of numbers and eliminates half of the data; this process repeats until the desired value is found or all elements have been eliminated.\n",
    "- Data must be in sorted order to use the binary search algorithm \n",
    "- A binary search is often more efficient than sequential/linear search when applied to sorted data. \n",
    "## Essential Knowledge\n",
    "\n",
    "### Sequential Search \n",
    "\n",
    "\n",
    "### Binary Search\n",
    "\n",
    "## Walkthrough\n",
    "\n",
    "## Practice Problems\n",
    "(4)\n",
    "## Hacks \n",
    "(6)"
   ]
  }
 ],
 "metadata": {
  "kernelspec": {
   "display_name": "Python 3.9.13 64-bit (microsoft store)",
   "language": "python",
   "name": "python3"
  },
  "language_info": {
   "name": "python",
   "version": "3.9.13"
  },
  "orig_nbformat": 4,
  "vscode": {
   "interpreter": {
    "hash": "b9c3426249d7334374c23b70574cd863c9c4586e94e725b6faba2747af0061b7"
   }
  }
 },
 "nbformat": 4,
 "nbformat_minor": 2
}
