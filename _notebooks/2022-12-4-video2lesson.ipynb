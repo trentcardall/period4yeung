{
 "cells": [
  {
   "cell_type": "code",
   "execution_count": null,
   "metadata": {},
   "outputs": [],
   "source": [
    "# \"Unit 3 Sections 9 and 11\" Video 2\n",
    "\n",
    "- toc: true\n",
    "- branch: master\n",
    "- badges: true\n",
    "- comments: true\n",
    "- author: Trent, Eli, Khalid, Samarth\n",
    "- categories: [fastpages, jupyter]"
   ]
  },
  {
   "cell_type": "markdown",
   "metadata": {},
   "source": [
    "# Essential Knowledge \n",
    "- Algorithms can be created from an idea, \n",
    "  by combining existing algorithms, \n",
    "  or by modifying existing algorithms.\n",
    "\n",
    "# Vocab\n",
    "- Iteration: Repeating steps, or instructions over and over again. \n",
    "( this could be also often called a loop ) \n",
    "- Selection: is a decision or question. At some point in an algorithm there may need to be a question because the algorithm has reached a step where one or more options are available."
   ]
  },
  {
   "cell_type": "markdown",
   "metadata": {},
   "source": [
    "![photo]({{site.baseurl}}/images/example 1 triangle.png)"
   ]
  },
  {
   "cell_type": "markdown",
   "metadata": {},
   "source": [
    "- Create an algorithm to move the robot to the gray square for the grid of squares on the right.\n",
    "- The robot is represented by a triangle, which is initially facing towards the top of the grid.\n",
    "- The robot can move into a white or gray square but cannot move into a black region.\n",
    "<summary>Click for the answer!</summary>\n",
    "    ![photo]({{site.baseurl}}/images/robot answer.png)\n",
    "    The code just repeats until the goal is reached"
   ]
  },
  {
   "cell_type": "markdown",
   "metadata": {},
   "source": [
    "- You might notice that certain parts would be repeated if you listed all the steps.\n",
    "- To more easily represent the algorithm, without showing every step, we could use iteration.\n",
    "- By using iteration, we can better see the flow of the algorithm.\n",
    "- The algorithm below uses the procedure goalReached, which returns true if the robot is in gray square and returns false otherwise.\n",
    "![photo]({{site.baseurl}}/images/flowchart robot.png)\n",
    "- We can represent this algorithm using pseudocode\n",
    "    \n",
    "REPEAT UNTIL (goalReached)\n",
    "{\n",
    "    MOVE_FOWARD ()\n",
    "    ROTATE_RIGHT ()\n",
    "    MOVE_FOWARD ()\n",
    "    ROTATE_LEFT ()\n",
    "}"
   ]
  },
  {
   "cell_type": "markdown",
   "metadata": {},
   "source": [
    "Choose which algorithm that uses selection and/or iteration to determine the cost of one item in the store is correct\n",
    "\n",
    "The display at the store says the following:\n",
    "\n",
    "All Green Tag Items - 25% off\n",
    "All Red Tag Items - 60% off\n",
    "\n",
    "Suppose that the tax on all items is 10%"
   ]
  },
  {
   "cell_type": "markdown",
   "metadata": {},
   "source": [
    "Algorithm A.\n",
    "\n",
    "DISPLAY (\"What is the cost of the item?\")\n",
    "cost←INPUT ()\n",
    "IF (greenTag)\n",
    "{\n",
    "    cost ← 0.75 * Cost \n",
    "}\n",
    "IF (redTag)\n",
    "{\n",
    "    cost ← 0.40 * Cost \n",
    "}\n",
    "cost ← 1.10 * cost\n"
   ]
  },
  {
   "cell_type": "markdown",
   "metadata": {},
   "source": [
    "Algorithm B.\n",
    "\n",
    "DISPLAY (What is the cost of the item)\n",
    "cost←INPUT ()\n",
    "IF (greenTag)\n",
    "{\n",
    "    cost ← 0.75 * Cost \n",
    "}\n",
    "IF (redTag)\n",
    "{\n",
    "     cost ← 1.10 * cost\n",
    "}\n",
    "cost ← 0.40 * Cost"
   ]
  },
  {
   "cell_type": "markdown",
   "metadata": {},
   "source": [
    "# Algorithms Hacks\n",
    "1. Create an algorithm that uses selection and/or iteration that will represent one player's complete turn.\n",
    "\n",
    "During a turn, each player gets 4 attempts/chances to get the greatest number possible.\n",
    "\n",
    "during each attempt, the player will use a random number generator to select a random number from 1 to 10.\n",
    "\n",
    "After they have had 4 chances, their score is the greatest number they received from the random number generator, and their turn is over."
   ]
  }
 ],
 "metadata": {
  "kernelspec": {
   "display_name": "Python 3.9.12 ('base')",
   "language": "python",
   "name": "python3"
  },
  "language_info": {
   "name": "python",
   "version": "3.9.12"
  },
  "orig_nbformat": 4,
  "vscode": {
   "interpreter": {
    "hash": "b21c0b9d110a5a3043a375d760ca16faf426bffca7e8cbf746b0d228ab037b0a"
   }
  }
 },
 "nbformat": 4,
 "nbformat_minor": 2
}
